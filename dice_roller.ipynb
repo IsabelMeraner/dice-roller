import random
from IPython.display import display, HTML
import ipywidgets as widgets

def roll_dice():
    """Function to roll the dice and display the result."""
    result = random.randint(1, 13)
    display(HTML(f"<h2>Your roll: {result}</h2>"))

# Create a button
roll_button = widgets.Button(description="Roll the Dice")

# Define the button's click event
roll_button.on_click(lambda _: roll_dice())

# Display the button
display(HTML("<h1>Roll a Dice (1 to 13)</h1>"))
display(roll_button)
