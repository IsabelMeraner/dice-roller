{
 "cells": [
  {
   "cell_type": "code",
   "execution_count": null,
   "metadata": {},
   "outputs": [],
   "source": [
    "import random\n",
    "from IPython.display import display, HTML\n",
    "import ipywidgets as widgets\n",
    "\n",
    "def roll_dice():\n",
    "    \"\"\"Function to roll the dice and display the result.\"\"\"\n",
    "    result = random.randint(1, 13)\n",
    "    display(HTML(f\"<h2>Your roll: {result}</h2>\"))\n",
    "\n",
    "# Create a button\n",
    "roll_button = widgets.Button(description=\"Roll the Dice\")\n",
    "\n",
    "# Define the button's click event\n",
    "roll_button.on_click(lambda _: roll_dice())\n",
    "\n",
    "# Display the button\n",
    "display(HTML(\"<h1>Roll a Dice (1 to 13)</h1>\"))\n",
    "display(roll_button)"
   ]
  }
 ],
 "metadata": {
  "kernelspec": {
   "display_name": "Python 3",
   "language": "python",
   "name": "python3"
  },
  "language_info": {
   "codemirror_mode": {
    "name": "ipython",
    "version": 3
   },
   "file_extension": ".py",
   "mimetype": "text/x-python",
   "name": "python",
   "nbconvert_exporter": "python",
   "pygments_lexer": "ipython3",
   "version": "3.8.10"
  }
 },
 "nbformat": 4,
 "nbformat_minor": 5
}
